{
 "cells": [
  {
   "cell_type": "code",
   "execution_count": 1,
   "id": "25999520",
   "metadata": {},
   "outputs": [
    {
     "name": "stdout",
     "output_type": "stream",
     "text": [
      "✅ 엑셀 저장 완료: C:\\Users\\user\\Desktop\\recipes_export_202504301051.xlsx\n"
     ]
    }
   ],
   "source": [
    "import pymysql\n",
    "import pandas as pd\n",
    "from datetime import datetime\n",
    "import os\n",
    "\n",
    "# ✅ DB 연결\n",
    "db = pymysql.connect(\n",
    "    host='localhost',\n",
    "    user='root',\n",
    "    password='sk784512!!',\n",
    "    db='refrigerator',\n",
    "    charset='utf8mb4',\n",
    "    cursorclass=pymysql.cursors.DictCursor\n",
    ")\n",
    "\n",
    "cursor = db.cursor()\n",
    "cursor.execute(\"SELECT * FROM recipes\")\n",
    "rows = cursor.fetchall()\n",
    "\n",
    "df = pd.DataFrame(rows)\n",
    "\n",
    "# ✅ 현재 시간 추가해서 파일명 생성\n",
    "timestamp = datetime.now().strftime(\"%Y%m%d%H%M\")\n",
    "filename = f\"recipes_export_{timestamp}.xlsx\"\n",
    "output_path = os.path.join(r\"C:\\Users\\user\\Desktop\", filename)\n",
    "\n",
    "# ✅ 엑셀 저장\n",
    "df.to_excel(output_path, index=False, engine=\"openpyxl\")\n",
    "\n",
    "cursor.close()\n",
    "db.close()\n",
    "print(f\"✅ 엑셀 저장 완료: {output_path}\")\n"
   ]
  }
 ],
 "metadata": {
  "kernelspec": {
   "display_name": "Python 3",
   "language": "python",
   "name": "python3"
  },
  "language_info": {
   "codemirror_mode": {
    "name": "ipython",
    "version": 3
   },
   "file_extension": ".py",
   "mimetype": "text/x-python",
   "name": "python",
   "nbconvert_exporter": "python",
   "pygments_lexer": "ipython3",
   "version": "3.12.4"
  }
 },
 "nbformat": 4,
 "nbformat_minor": 5
}
